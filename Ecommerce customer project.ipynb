{
  "cells": [
    {
      "metadata": {},
      "cell_type": "markdown",
      "source": "## Linear Regression"
    },
    {
      "metadata": {},
      "cell_type": "markdown",
      "source": "* Creating machine learning models for linear regression problems"
    },
    {
      "metadata": {},
      "cell_type": "markdown",
      "source": "https://www.zweigmedia.com/RealWorld/tutorialsf0/framesLA.html  \n<a href=\"https://mubaris.com/posts/linear-regression/\" \ntarget=\"_blank\">https://mubaris.com/posts/linear-regression/</a>  "
    },
    {
      "metadata": {},
      "cell_type": "markdown",
      "source": "### Project: E-commerce Customer Data"
    },
    {
      "metadata": {},
      "cell_type": "markdown",
      "source": "### Data Description"
    },
    {
      "metadata": {},
      "cell_type": "markdown",
      "source": "*  It has 4 input features (Avg. Session Length, Time on App, Time on Website & Length of Membership) and the output to be predicted is ‘Yearly Amount Spent’."
    },
    {
      "metadata": {},
      "cell_type": "markdown",
      "source": "### Project Goal"
    },
    {
      "metadata": {},
      "cell_type": "markdown",
      "source": "> **Predict the yearly amount spent by each customer based on their browsing behavior (Avg. Session Length, Time on App, Time on Website & Length of Membership).**"
    },
    {
      "metadata": {},
      "cell_type": "markdown",
      "source": "### Loading libraries and data set"
    },
    {
      "metadata": {
        "trusted": false
      },
      "cell_type": "code",
      "source": "# Import external packages\nimport pandas as pd\nimport matplotlib.pyplot as plt\nimport seaborn as sns\nimport numpy as np\n\n# Load your data set from csv file\ncustomers = pd.read_csv('data/Ecommerce Customers')\ncustomers.head()\n# Preliminary analysis of data set (Check column names and total records)\nprint(customers.count())",
      "execution_count": 5,
      "outputs": [
        {
          "name": "stdout",
          "output_type": "stream",
          "text": "Email                   500\nAddress                 500\nAvatar                  500\nAvg. Session Length     500\nTime on App             500\nTime on Website         500\nLength of Membership    500\nYearly Amount Spent     500\ndtype: int64\n"
        }
      ]
    },
    {
      "metadata": {},
      "cell_type": "markdown",
      "source": "### Preparation for Modeling\n* Select your input features based on your project goal. The dataset consists of many data points or features but you have to select the features which are strongly correlated with the output value. It is called Feature Engineering.  "
    },
    {
      "metadata": {
        "trusted": false
      },
      "cell_type": "code",
      "source": "# Select your input features & output variable\nX = customers[['Avg. Session Length', 'Time on App', 'Time on Website','Length of Membership']]\n\ny = customers['Yearly Amount Spent']",
      "execution_count": 6,
      "outputs": []
    },
    {
      "metadata": {},
      "cell_type": "markdown",
      "source": "### Split Data into Training and Test Set"
    },
    {
      "metadata": {},
      "cell_type": "markdown",
      "source": "Divide the samples of output Y and features X into two sets 1-Training set & 2-Testing set. Training set will be used to train your model while Test set will be used to evaluate the model accuracy. Earlier we used a general rule for the ratio of training/test sets as 70/30 or 60/40 but with time it is proved that this ratio is empirical and completely depends on the total size of your data set. If the number of samples is very large (say more than 1 Million) then only 1% of samples are enough to check the accuracy of the model. In our practice example, we will use the 70/30 ratio.\n\nSklearn provides a built-in function ‘train_test_split’ to randomly divide the data set into train-test sets."
    },
    {
      "metadata": {
        "scrolled": true,
        "trusted": false
      },
      "cell_type": "code",
      "source": "# import train_test_split function\nfrom sklearn.model_selection import train_test_split\n\n# Assign the output to four variables\nX_train, X_test, y_train, y_test = train_test_split(X, y, test_size=0.30, random_state=101)\n\n# Check the results\nprint(X_train.count())\nprint(X_test.count())",
      "execution_count": 7,
      "outputs": [
        {
          "name": "stdout",
          "output_type": "stream",
          "text": "Avg. Session Length     350\nTime on App             350\nTime on Website         350\nLength of Membership    350\ndtype: int64\nAvg. Session Length     150\nTime on App             150\nTime on Website         150\nLength of Membership    150\ndtype: int64\n"
        }
      ]
    },
    {
      "metadata": {},
      "cell_type": "markdown",
      "source": "### Train a Model"
    },
    {
      "metadata": {
        "trusted": false
      },
      "cell_type": "code",
      "source": "#Import LinearRegression model from sklearn\nfrom sklearn.linear_model import LinearRegression\n\n# Initialize the model to empty variable\nlm = LinearRegression()\n\n\"\"\"\nUse 'fit' method to train the model\nmodel.fit(X, y, sample_weight=None)\nwhere X is NumPy array of input features\ny is NumPy array of output variable\nsample_weight is NumPy array of individual weights for each sample\n\"\"\"\nlm.fit(X_train, y_train)\n\n#Now check the coeeficients. It will return coefficient of individual input feature.\nprint('Coefficients: \\n', lm.coef_)",
      "execution_count": 9,
      "outputs": [
        {
          "name": "stdout",
          "output_type": "stream",
          "text": "Coefficients: \n [25.98154972 38.59015875  0.19040528 61.27909654]\n"
        }
      ]
    },
    {
      "metadata": {},
      "cell_type": "markdown",
      "source": "### Test the Model\n"
    },
    {
      "metadata": {
        "trusted": false
      },
      "cell_type": "code",
      "source": "# Use 'predict' method to test the model 'lm'\npredictions = lm.predict(X_test)\n\n#Now Check the mean squared error\nfrom sklearn import metrics\nprint('MSE: ', metrics.mean_squared_error(y_test, predictions))\n\n#Compare the predicted output and actual output using scatter plot\nplt.scatter(y_test, predictions)\nplt.xlabel('Y Test')\nplt.ylabel('Predicted Y')\nplt.show()",
      "execution_count": 10,
      "outputs": [
        {
          "name": "stdout",
          "output_type": "stream",
          "text": "MSE:  79.81305165097481\n"
        },
        {
          "data": {
            "image/png": "[encoded data removed]",
            "text/plain": "<matplotlib.figure.Figure at 0x7f29dd1efb70>"
          },
          "metadata": {},
          "output_type": "display_data"
        }
      ]
    },
    {
      "metadata": {
        "trusted": false
      },
      "cell_type": "code",
      "source": "#Check distribution plot\nsns.distplot((y_test-predictions))\nplt.show()",
      "execution_count": 11,
      "outputs": [
        {
          "data": {
            "image/png": "[encoded data removed]",
            "text/plain": "<matplotlib.figure.Figure at 0x7f29dde5fb00>"
          },
          "metadata": {},
          "output_type": "display_data"
        }
      ]
    },
    {
      "metadata": {},
      "cell_type": "markdown",
      "source": "### Prediction for a new Cusotmer\n* If we want to predict the yearly amount of spending for a new customer, we will use the predict method."
    },
    {
      "metadata": {
        "scrolled": true,
        "trusted": false
      },
      "cell_type": "code",
      "source": "#Create a 2D numpy array of input features\nind_cus = np.array([[32.187812, 14.715388, 38.244115, 1.516576]])\n\n    #Use predict method\n    print('Yearly amount spent = ', lm.predict(ind_cus))",
      "execution_count": 13,
      "outputs": [
        {
          "name": "stdout",
          "output_type": "stream",
          "text": "Yearly amount spent =  [456.4419032]\n"
        }
      ]
    },
    {
      "metadata": {},
      "cell_type": "markdown",
      "source": "<span style=\"color:red; font-family:Comic Sans MS\">Further Resources: </span>     \n<a href=\"https://engmrk.com/module-11-linear-regression-2/\" target=\"_blank\">https://engmrk.com/module-11-linear-regression-2/</a>  \n<a href=\"http://people.sc.fsu.edu/~jburkardt/datasets/regression/x16.txt\" target=\"_blank\">http://people.sc.fsu.edu/~jburkardt/datasets/regression/x16.txt</a>  \n<a href=\"http://stackabuse.com/linear-regression-in-python-with-scikit-learn/\" target=\"_blank\">http://stackabuse.com/linear-regression-in-python-with-scikit-learn/</a>   (ex for simple linear regression)"
    },
    {
      "metadata": {
        "trusted": false
      },
      "cell_type": "code",
      "source": "",
      "execution_count": null,
      "outputs": []
    }
  ],
  "metadata": {
    "kernelspec": {
      "name": "python3",
      "display_name": "Python 3",
      "language": "python"
    },
    "language_info": {
      "mimetype": "text/x-python",
      "nbconvert_exporter": "python",
      "name": "python",
      "file_extension": ".py",
      "version": "3.5.4",
      "pygments_lexer": "ipython3",
      "codemirror_mode": {
        "version": 3,
        "name": "ipython"
      }
    },
    "toc": {
      "nav_menu": {},
      "number_sections": true,
      "sideBar": true,
      "skip_h1_title": false,
      "base_numbering": 1,
      "title_cell": "Table of Contents",
      "title_sidebar": "Contents",
      "toc_cell": false,
      "toc_position": {},
      "toc_section_display": true,
      "toc_window_display": false
    }
  },
  "nbformat": 4,
  "nbformat_minor": 2
}